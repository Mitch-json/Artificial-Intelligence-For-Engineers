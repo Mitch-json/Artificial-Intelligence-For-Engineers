{
 "cells": [
  {
   "cell_type": "markdown",
   "id": "31f2f32c",
   "metadata": {},
   "source": [
    "# Turning Text into a Knowledge Graph with Python\n",
    "This exercise shows how to transform raw text into a simple **Knowledge Graph** using Python, an LLM (e.g., OpenAI GPT), and visualization tools.\n",
    "\n",
    "Steps:\n",
    "1. Install dependencies  \n",
    "2. Import libraries  \n",
    "3. Provide text input  \n",
    "4. Extract entities & relationships with an LLM  \n",
    "5. Build the graph  \n",
    "6. Visualize the graph  "
   ]
  },
  {
   "cell_type": "code",
   "execution_count": 1,
   "id": "e4a5bdcd",
   "metadata": {},
   "outputs": [
    {
     "name": "stdout",
     "output_type": "stream",
     "text": [
      "Requirement already satisfied: spacy in c:\\users\\hp\\anaconda3\\lib\\site-packages (3.8.7)\n",
      "Requirement already satisfied: networkx in c:\\users\\hp\\anaconda3\\lib\\site-packages (3.4.2)\n",
      "Requirement already satisfied: pyvis in c:\\users\\hp\\anaconda3\\lib\\site-packages (0.3.2)\n",
      "Requirement already satisfied: jinja2 in c:\\users\\hp\\anaconda3\\lib\\site-packages (3.1.6)\n",
      "Requirement already satisfied: spacy-legacy<3.1.0,>=3.0.11 in c:\\users\\hp\\anaconda3\\lib\\site-packages (from spacy) (3.0.12)\n",
      "Requirement already satisfied: spacy-loggers<2.0.0,>=1.0.0 in c:\\users\\hp\\anaconda3\\lib\\site-packages (from spacy) (1.0.5)\n",
      "Requirement already satisfied: murmurhash<1.1.0,>=0.28.0 in c:\\users\\hp\\anaconda3\\lib\\site-packages (from spacy) (1.0.13)\n",
      "Requirement already satisfied: cymem<2.1.0,>=2.0.2 in c:\\users\\hp\\anaconda3\\lib\\site-packages (from spacy) (2.0.11)\n",
      "Requirement already satisfied: preshed<3.1.0,>=3.0.2 in c:\\users\\hp\\anaconda3\\lib\\site-packages (from spacy) (3.0.10)\n",
      "Requirement already satisfied: thinc<8.4.0,>=8.3.4 in c:\\users\\hp\\anaconda3\\lib\\site-packages (from spacy) (8.3.6)\n",
      "Requirement already satisfied: wasabi<1.2.0,>=0.9.1 in c:\\users\\hp\\anaconda3\\lib\\site-packages (from spacy) (1.1.3)\n",
      "Requirement already satisfied: srsly<3.0.0,>=2.4.3 in c:\\users\\hp\\anaconda3\\lib\\site-packages (from spacy) (2.5.1)\n",
      "Requirement already satisfied: catalogue<2.1.0,>=2.0.6 in c:\\users\\hp\\anaconda3\\lib\\site-packages (from spacy) (2.0.10)\n",
      "Requirement already satisfied: weasel<0.5.0,>=0.1.0 in c:\\users\\hp\\anaconda3\\lib\\site-packages (from spacy) (0.4.1)\n",
      "Requirement already satisfied: typer<1.0.0,>=0.3.0 in c:\\users\\hp\\anaconda3\\lib\\site-packages (from spacy) (0.9.0)\n",
      "Requirement already satisfied: tqdm<5.0.0,>=4.38.0 in c:\\users\\hp\\anaconda3\\lib\\site-packages (from spacy) (4.67.1)\n",
      "Requirement already satisfied: numpy>=1.19.0 in c:\\users\\hp\\anaconda3\\lib\\site-packages (from spacy) (2.1.3)\n",
      "Requirement already satisfied: requests<3.0.0,>=2.13.0 in c:\\users\\hp\\anaconda3\\lib\\site-packages (from spacy) (2.32.5)\n",
      "Requirement already satisfied: pydantic!=1.8,!=1.8.1,<3.0.0,>=1.7.4 in c:\\users\\hp\\anaconda3\\lib\\site-packages (from spacy) (2.10.3)\n",
      "Requirement already satisfied: setuptools in c:\\users\\hp\\anaconda3\\lib\\site-packages (from spacy) (72.1.0)\n",
      "Requirement already satisfied: packaging>=20.0 in c:\\users\\hp\\anaconda3\\lib\\site-packages (from spacy) (24.2)\n",
      "Requirement already satisfied: langcodes<4.0.0,>=3.2.0 in c:\\users\\hp\\anaconda3\\lib\\site-packages (from spacy) (3.5.0)\n",
      "Requirement already satisfied: language-data>=1.2 in c:\\users\\hp\\anaconda3\\lib\\site-packages (from langcodes<4.0.0,>=3.2.0->spacy) (1.3.0)\n",
      "Requirement already satisfied: annotated-types>=0.6.0 in c:\\users\\hp\\anaconda3\\lib\\site-packages (from pydantic!=1.8,!=1.8.1,<3.0.0,>=1.7.4->spacy) (0.6.0)\n",
      "Requirement already satisfied: pydantic-core==2.27.1 in c:\\users\\hp\\anaconda3\\lib\\site-packages (from pydantic!=1.8,!=1.8.1,<3.0.0,>=1.7.4->spacy) (2.27.1)\n",
      "Requirement already satisfied: typing-extensions>=4.12.2 in c:\\users\\hp\\anaconda3\\lib\\site-packages (from pydantic!=1.8,!=1.8.1,<3.0.0,>=1.7.4->spacy) (4.12.2)\n",
      "Requirement already satisfied: charset_normalizer<4,>=2 in c:\\users\\hp\\anaconda3\\lib\\site-packages (from requests<3.0.0,>=2.13.0->spacy) (3.3.2)\n",
      "Requirement already satisfied: idna<4,>=2.5 in c:\\users\\hp\\anaconda3\\lib\\site-packages (from requests<3.0.0,>=2.13.0->spacy) (3.7)\n",
      "Requirement already satisfied: urllib3<3,>=1.21.1 in c:\\users\\hp\\anaconda3\\lib\\site-packages (from requests<3.0.0,>=2.13.0->spacy) (2.3.0)\n",
      "Requirement already satisfied: certifi>=2017.4.17 in c:\\users\\hp\\anaconda3\\lib\\site-packages (from requests<3.0.0,>=2.13.0->spacy) (2025.8.3)\n",
      "Requirement already satisfied: blis<1.4.0,>=1.3.0 in c:\\users\\hp\\anaconda3\\lib\\site-packages (from thinc<8.4.0,>=8.3.4->spacy) (1.3.0)\n",
      "Requirement already satisfied: confection<1.0.0,>=0.0.1 in c:\\users\\hp\\anaconda3\\lib\\site-packages (from thinc<8.4.0,>=8.3.4->spacy) (0.1.5)\n",
      "Requirement already satisfied: colorama in c:\\users\\hp\\anaconda3\\lib\\site-packages (from tqdm<5.0.0,>=4.38.0->spacy) (0.4.6)\n",
      "Requirement already satisfied: click<9.0.0,>=7.1.1 in c:\\users\\hp\\anaconda3\\lib\\site-packages (from typer<1.0.0,>=0.3.0->spacy) (8.1.8)\n",
      "Requirement already satisfied: cloudpathlib<1.0.0,>=0.7.0 in c:\\users\\hp\\anaconda3\\lib\\site-packages (from weasel<0.5.0,>=0.1.0->spacy) (0.22.0)\n",
      "Requirement already satisfied: smart-open<8.0.0,>=5.2.1 in c:\\users\\hp\\anaconda3\\lib\\site-packages (from weasel<0.5.0,>=0.1.0->spacy) (7.3.1)\n",
      "Requirement already satisfied: wrapt in c:\\users\\hp\\anaconda3\\lib\\site-packages (from smart-open<8.0.0,>=5.2.1->weasel<0.5.0,>=0.1.0->spacy) (1.17.0)\n",
      "Requirement already satisfied: ipython>=5.3.0 in c:\\users\\hp\\anaconda3\\lib\\site-packages (from pyvis) (8.30.0)\n",
      "Requirement already satisfied: jsonpickle>=1.4.1 in c:\\users\\hp\\anaconda3\\lib\\site-packages (from pyvis) (4.1.1)\n",
      "Requirement already satisfied: MarkupSafe>=2.0 in c:\\users\\hp\\anaconda3\\lib\\site-packages (from jinja2) (3.0.2)\n",
      "Requirement already satisfied: decorator in c:\\users\\hp\\anaconda3\\lib\\site-packages (from ipython>=5.3.0->pyvis) (5.1.1)\n",
      "Requirement already satisfied: jedi>=0.16 in c:\\users\\hp\\anaconda3\\lib\\site-packages (from ipython>=5.3.0->pyvis) (0.19.2)\n",
      "Requirement already satisfied: matplotlib-inline in c:\\users\\hp\\anaconda3\\lib\\site-packages (from ipython>=5.3.0->pyvis) (0.1.6)\n",
      "Requirement already satisfied: prompt-toolkit<3.1.0,>=3.0.41 in c:\\users\\hp\\anaconda3\\lib\\site-packages (from ipython>=5.3.0->pyvis) (3.0.43)\n",
      "Requirement already satisfied: pygments>=2.4.0 in c:\\users\\hp\\anaconda3\\lib\\site-packages (from ipython>=5.3.0->pyvis) (2.19.1)\n",
      "Requirement already satisfied: stack-data in c:\\users\\hp\\anaconda3\\lib\\site-packages (from ipython>=5.3.0->pyvis) (0.2.0)\n",
      "Requirement already satisfied: traitlets>=5.13.0 in c:\\users\\hp\\anaconda3\\lib\\site-packages (from ipython>=5.3.0->pyvis) (5.14.3)\n",
      "Requirement already satisfied: wcwidth in c:\\users\\hp\\anaconda3\\lib\\site-packages (from prompt-toolkit<3.1.0,>=3.0.41->ipython>=5.3.0->pyvis) (0.2.5)\n",
      "Requirement already satisfied: parso<0.9.0,>=0.8.4 in c:\\users\\hp\\anaconda3\\lib\\site-packages (from jedi>=0.16->ipython>=5.3.0->pyvis) (0.8.4)\n",
      "Requirement already satisfied: marisa-trie>=1.1.0 in c:\\users\\hp\\anaconda3\\lib\\site-packages (from language-data>=1.2->langcodes<4.0.0,>=3.2.0->spacy) (1.3.1)\n",
      "Requirement already satisfied: executing in c:\\users\\hp\\anaconda3\\lib\\site-packages (from stack-data->ipython>=5.3.0->pyvis) (0.8.3)\n",
      "Requirement already satisfied: asttokens in c:\\users\\hp\\anaconda3\\lib\\site-packages (from stack-data->ipython>=5.3.0->pyvis) (3.0.0)\n",
      "Requirement already satisfied: pure-eval in c:\\users\\hp\\anaconda3\\lib\\site-packages (from stack-data->ipython>=5.3.0->pyvis) (0.2.2)\n",
      "Collecting en-core-web-sm==3.8.0\n",
      "  Downloading https://github.com/explosion/spacy-models/releases/download/en_core_web_sm-3.8.0/en_core_web_sm-3.8.0-py3-none-any.whl (12.8 MB)\n",
      "     ---------------------------------------- 0.0/12.8 MB ? eta -:--:--\n",
      "     ---------------------------------------- 0.0/12.8 MB ? eta -:--:--\n",
      "     ---------------------------------------- 0.0/12.8 MB ? eta -:--:--\n",
      "      --------------------------------------- 0.3/12.8 MB ? eta -:--:--\n",
      "     - -------------------------------------- 0.5/12.8 MB 1.5 MB/s eta 0:00:09\n",
      "     - -------------------------------------- 0.5/12.8 MB 1.5 MB/s eta 0:00:09\n",
      "     - -------------------------------------- 0.5/12.8 MB 1.5 MB/s eta 0:00:09\n",
      "     - -------------------------------------- 0.5/12.8 MB 1.5 MB/s eta 0:00:09\n",
      "     - -------------------------------------- 0.5/12.8 MB 1.5 MB/s eta 0:00:09\n",
      "     - -------------------------------------- 0.5/12.8 MB 1.5 MB/s eta 0:00:09\n",
      "     - -------------------------------------- 0.5/12.8 MB 1.5 MB/s eta 0:00:09\n",
      "     -- ------------------------------------ 0.8/12.8 MB 337.6 kB/s eta 0:00:36\n",
      "     -- ------------------------------------ 0.8/12.8 MB 337.6 kB/s eta 0:00:36\n",
      "     -- ------------------------------------ 0.8/12.8 MB 337.6 kB/s eta 0:00:36\n",
      "     -- ------------------------------------ 0.8/12.8 MB 337.6 kB/s eta 0:00:36\n",
      "     -- ------------------------------------ 0.8/12.8 MB 337.6 kB/s eta 0:00:36\n",
      "     -- ------------------------------------ 0.8/12.8 MB 337.6 kB/s eta 0:00:36\n",
      "     -- ------------------------------------ 0.8/12.8 MB 337.6 kB/s eta 0:00:36\n",
      "     --- ----------------------------------- 1.0/12.8 MB 261.4 kB/s eta 0:00:45\n",
      "     --- ----------------------------------- 1.0/12.8 MB 261.4 kB/s eta 0:00:45\n",
      "     --- ----------------------------------- 1.0/12.8 MB 261.4 kB/s eta 0:00:45\n",
      "     --- ----------------------------------- 1.3/12.8 MB 267.9 kB/s eta 0:00:43\n",
      "     --- ----------------------------------- 1.3/12.8 MB 267.9 kB/s eta 0:00:43\n",
      "     --- ----------------------------------- 1.3/12.8 MB 267.9 kB/s eta 0:00:43\n",
      "     ---- ---------------------------------- 1.6/12.8 MB 293.8 kB/s eta 0:00:39\n",
      "     ----- --------------------------------- 1.8/12.8 MB 334.6 kB/s eta 0:00:33\n",
      "     ----- --------------------------------- 1.8/12.8 MB 334.6 kB/s eta 0:00:33\n",
      "     ----- --------------------------------- 1.8/12.8 MB 334.6 kB/s eta 0:00:33\n",
      "     ----- --------------------------------- 1.8/12.8 MB 334.6 kB/s eta 0:00:33\n",
      "     ----- --------------------------------- 1.8/12.8 MB 334.6 kB/s eta 0:00:33\n",
      "     ----- --------------------------------- 1.8/12.8 MB 334.6 kB/s eta 0:00:33\n",
      "     ----- --------------------------------- 1.8/12.8 MB 334.6 kB/s eta 0:00:33\n",
      "     ----- --------------------------------- 1.8/12.8 MB 334.6 kB/s eta 0:00:33\n",
      "     ----- --------------------------------- 1.8/12.8 MB 334.6 kB/s eta 0:00:33\n",
      "     ----- --------------------------------- 1.8/12.8 MB 334.6 kB/s eta 0:00:33\n",
      "     ----- --------------------------------- 1.8/12.8 MB 334.6 kB/s eta 0:00:33\n",
      "     ------ -------------------------------- 2.1/12.8 MB 260.7 kB/s eta 0:00:42\n",
      "     ------ -------------------------------- 2.1/12.8 MB 260.7 kB/s eta 0:00:42\n",
      "     ------ -------------------------------- 2.1/12.8 MB 260.7 kB/s eta 0:00:42\n",
      "     ------ -------------------------------- 2.1/12.8 MB 260.7 kB/s eta 0:00:42\n",
      "     ------- ------------------------------- 2.4/12.8 MB 264.8 kB/s eta 0:00:40\n",
      "     ------- ------------------------------- 2.4/12.8 MB 264.8 kB/s eta 0:00:40\n",
      "     -------- ------------------------------ 2.9/12.8 MB 311.2 kB/s eta 0:00:32\n",
      "     --------- ----------------------------- 3.1/12.8 MB 337.2 kB/s eta 0:00:29\n",
      "     --------- ----------------------------- 3.1/12.8 MB 337.2 kB/s eta 0:00:29\n",
      "     ---------- ---------------------------- 3.4/12.8 MB 349.0 kB/s eta 0:00:27\n",
      "     ---------- ---------------------------- 3.4/12.8 MB 349.0 kB/s eta 0:00:27\n",
      "     ----------- --------------------------- 3.7/12.8 MB 362.7 kB/s eta 0:00:26\n",
      "     ----------- --------------------------- 3.9/12.8 MB 380.1 kB/s eta 0:00:24\n",
      "     ------------ -------------------------- 4.2/12.8 MB 400.5 kB/s eta 0:00:22\n",
      "     ------------- ------------------------- 4.5/12.8 MB 420.3 kB/s eta 0:00:20\n",
      "     --------------- ----------------------- 5.0/12.8 MB 458.6 kB/s eta 0:00:18\n",
      "     --------------- ----------------------- 5.2/12.8 MB 477.5 kB/s eta 0:00:16\n",
      "     ---------------- ---------------------- 5.5/12.8 MB 496.0 kB/s eta 0:00:15\n",
      "     ----------------- --------------------- 5.8/12.8 MB 513.0 kB/s eta 0:00:14\n",
      "     ------------------- ------------------- 6.3/12.8 MB 544.3 kB/s eta 0:00:12\n",
      "     ------------------- ------------------- 6.6/12.8 MB 560.6 kB/s eta 0:00:12\n",
      "     --------------------- ----------------- 7.1/12.8 MB 593.0 kB/s eta 0:00:10\n",
      "     ---------------------- ---------------- 7.3/12.8 MB 608.1 kB/s eta 0:00:09\n",
      "     ----------------------- --------------- 7.9/12.8 MB 637.5 kB/s eta 0:00:08\n",
      "     ------------------------- ------------- 8.4/12.8 MB 666.3 kB/s eta 0:00:07\n",
      "     -------------------------- ------------ 8.7/12.8 MB 679.5 kB/s eta 0:00:07\n",
      "     -------------------------- ------------ 8.7/12.8 MB 679.5 kB/s eta 0:00:07\n",
      "     --------------------------- ----------- 8.9/12.8 MB 682.6 kB/s eta 0:00:06\n",
      "     ----------------------------- --------- 9.7/12.8 MB 725.4 kB/s eta 0:00:05\n",
      "     ----------------------------- -------- 10.0/12.8 MB 735.0 kB/s eta 0:00:04\n",
      "     ------------------------------ ------- 10.2/12.8 MB 744.3 kB/s eta 0:00:04\n",
      "     ------------------------------- ------ 10.5/12.8 MB 753.7 kB/s eta 0:00:04\n",
      "     ------------------------------- ------ 10.7/12.8 MB 762.3 kB/s eta 0:00:03\n",
      "     -------------------------------- ----- 11.0/12.8 MB 771.2 kB/s eta 0:00:03\n",
      "     --------------------------------- ---- 11.3/12.8 MB 779.2 kB/s eta 0:00:02\n",
      "     ----------------------------------- -- 11.8/12.8 MB 797.0 kB/s eta 0:00:02\n",
      "     ----------------------------------- -- 12.1/12.8 MB 805.8 kB/s eta 0:00:01\n",
      "     ------------------------------------ - 12.3/12.8 MB 814.3 kB/s eta 0:00:01\n",
      "     -------------------------------------  12.6/12.8 MB 823.8 kB/s eta 0:00:01\n",
      "     -------------------------------------- 12.8/12.8 MB 827.5 kB/s eta 0:00:00\n",
      "\u001b[38;5;2m[+] Download and installation successful\u001b[0m\n",
      "You can now load the package via spacy.load('en_core_web_sm')\n"
     ]
    }
   ],
   "source": [
    "#!pip install --upgrade langchain langchain-experimental langchain-openai python-dotenv pyvis\n",
    "!pip install spacy networkx pyvis jinja2\n",
    "!python -m spacy download en_core_web_sm"
   ]
  },
  {
   "cell_type": "code",
   "execution_count": 15,
   "id": "a682580b-d430-48fb-88e7-ba3ff80cf477",
   "metadata": {},
   "outputs": [],
   "source": [
    "# Install required libraries\n",
    "import spacy\n",
    "import networkx as nx\n",
    "import json\n",
    "import os"
   ]
  },
  {
   "cell_type": "code",
   "execution_count": 16,
   "id": "7794a606-bb1e-469f-861d-0e3124109913",
   "metadata": {},
   "outputs": [],
   "source": [
    "\n",
    "from pyvis.network import Network\n",
    "from IPython.display import display, HTML, IFrame\n",
    "from IPython.display import IFrame"
   ]
  },
  {
   "cell_type": "code",
   "execution_count": 17,
   "id": "57fe5252-f6b4-4314-bd79-8ba64fb91e9a",
   "metadata": {},
   "outputs": [],
   "source": [
    "# Load spaCy model\n",
    "nlp = spacy.load(\"en_core_web_sm\")\n",
    "\n",
    "def aconvert_to_graph_documents(text):\n",
    "    \"\"\"\n",
    "    Convert a text into a graph document (entities + relations).\n",
    "    Returns:\n",
    "      - graph (NetworkX DiGraph)\n",
    "      - triples (list of extracted (subject, relation, object))\n",
    "    \"\"\"\n",
    "    doc = nlp(text)\n",
    "    graph = nx.DiGraph()\n",
    "    triples = []\n",
    "\n",
    "    for sent in doc.sents:\n",
    "        subj = None\n",
    "        obj = None\n",
    "        rel = None\n",
    "\n",
    "        for token in sent:\n",
    "            # Identify subject\n",
    "            if \"subj\" in token.dep_:\n",
    "                subj = token.text\n",
    "                rel = token.head.lemma_  # use the verb governing the subject\n",
    "\n",
    "            # Identify object\n",
    "            if \"obj\" in token.dep_:\n",
    "                obj = token.text\n",
    "                rel = token.head.lemma_  # use the verb governing the object\n",
    "\n",
    "        if subj and obj and rel:\n",
    "            triples.append((subj, rel, obj))\n",
    "            graph.add_node(subj)\n",
    "            graph.add_node(obj)\n",
    "            graph.add_edge(subj, obj, relation=rel)\n",
    "\n",
    "    return graph, triples\n"
   ]
  },
  {
   "cell_type": "code",
   "execution_count": 18,
   "id": "e3c053d9",
   "metadata": {},
   "outputs": [],
   "source": [
    "# Build the graph from paragraph\n",
    "text = \"\"\" Albert Einstein was a German-born theoretical physicist who developed the theory of relativity, one of the two pillars of modern physics. He also made significant contributions to the development of quantum mechanics, particularly through his explanation of the photoelectric effect. Later in life, Einstein became a professor at Princeton University and was affiliated with the Institute for Advanced Study in Princeton. His work has influenced countless scientists and shaped our understanding of space, time, and energy.\"\"\"\n",
    "graph, triples = aconvert_to_graph_documents(text)\n",
    "# 5. Process text with spaCy\n",
    "# -----------------------------\n",
    "doc = nlp(text)"
   ]
  },
  {
   "cell_type": "code",
   "execution_count": 19,
   "id": "7438c2af-5926-4823-a36e-5d7b070787bf",
   "metadata": {},
   "outputs": [],
   "source": [
    "# Extract subject-relation-object triples OPTION #2\n",
    "# -----------------------------\n",
    "triples = []\n",
    "for sent in doc.sents:\n",
    "    subject = None\n",
    "    obj = None\n",
    "    relation = None\n",
    "\n",
    "    # Use noun chunks for multi-word subjects/objects\n",
    "    for chunk in sent.noun_chunks:\n",
    "        if \"subj\" in chunk.root.dep_:\n",
    "            subject = chunk.text\n",
    "        elif \"obj\" in chunk.root.dep_:\n",
    "            obj = chunk.text\n",
    "\n",
    "    # Find main verb as relation\n",
    "    for token in sent:\n",
    "        if token.pos_ == \"VERB\":\n",
    "            relation = token.lemma_\n",
    "\n",
    "    if subject and obj and relation:\n",
    "        triples.append((subject, relation, obj))"
   ]
  },
  {
   "cell_type": "code",
   "execution_count": 20,
   "id": "d9b181da",
   "metadata": {},
   "outputs": [
    {
     "name": "stdout",
     "output_type": "stream",
     "text": [
      "Extracted triples:\n",
      "('who', 'develop', 'modern physics')\n",
      "('He', 'make', 'the photoelectric effect')\n",
      "('Einstein', 'affiliate', 'Princeton')\n",
      "('His work', 'shape', 'space')\n",
      "\n",
      "Graph nodes: ['who', 'physics', 'He', 'effect', 'Einstein', 'Princeton', 'work', 'space']\n",
      "Graph edges with relations:\n",
      "who -[of]-> physics\n",
      "He -[of]-> effect\n",
      "Einstein -[in]-> Princeton\n",
      "work -[of]-> space\n"
     ]
    }
   ],
   "source": [
    "\n",
    "# Verify extracted triples\n",
    "# -----------------------------\n",
    "print(\"Extracted triples:\")\n",
    "for t in triples:\n",
    "    print(t)\n",
    "    \n",
    "# Verify nodes and edges\n",
    "# -----------------------------\n",
    "print(\"\\nGraph nodes:\", list(graph.nodes()))\n",
    "print(\"Graph edges with relations:\")\n",
    "for u, v, d in graph.edges(data=True):\n",
    "    print(f\"{u} -[{d['relation']}]-> {v}\")\n"
   ]
  },
  {
   "cell_type": "code",
   "execution_count": 21,
   "id": "056f1f92-8539-405d-959d-962ab50f214a",
   "metadata": {},
   "outputs": [],
   "source": [
    "# Build directed graph OPTION #2\n",
    "# -----------------------------\n",
    "G = nx.DiGraph()\n",
    "for subj, rel, obj in triples:\n",
    "    G.add_node(subj)\n",
    "    G.add_node(obj)\n",
    "    G.add_edge(subj, obj, label=rel)"
   ]
  },
  {
   "cell_type": "code",
   "execution_count": 22,
   "id": "1bfceb36-7ee1-41a8-839d-08de17acf911",
   "metadata": {},
   "outputs": [],
   "source": [
    "# Create PyVis interactive network OPTION #2\n",
    "# -----------------------------\n",
    "net = Network(notebook=True, height=\"600px\", width=\"1000px\", directed=True, cdn_resources='in_line')\n",
    "for node in G.nodes:\n",
    "    net.add_node(node, label=node, title=node)\n",
    "for u, v, d in G.edges(data=True):\n",
    "    net.add_edge(u, v, label=d['label'], title=d['label'])\n"
   ]
  },
  {
   "cell_type": "code",
   "execution_count": 23,
   "id": "e1bc12eb-cd5d-400e-845b-40576711d35d",
   "metadata": {},
   "outputs": [],
   "source": [
    "# Add nodes from the graph\n",
    "for node in graph.nodes:\n",
    "    net.add_node(node, label=node, title=node)\n",
    "\n",
    "# Add edges from the graph with proper labels\n",
    "for u, v, d in graph.edges(data=True):\n",
    "    # Use 'relation' key if present, else fallback to 'label'\n",
    "    edge_label = d.get('relation', d.get('label', ''))\n",
    "    net.add_edge(u, v, label=edge_label, title=edge_label)"
   ]
  },
  {
   "cell_type": "code",
   "execution_count": 24,
   "id": "f4bc6566-1995-4bee-8441-ca7eb3bdbbfc",
   "metadata": {},
   "outputs": [
    {
     "data": {
      "text/html": [
       "\n",
       "        <iframe\n",
       "            width=\"900\"\n",
       "            height=\"600\"\n",
       "            src=\"knowledge_graph.html\"\n",
       "            frameborder=\"0\"\n",
       "            allowfullscreen\n",
       "            \n",
       "        ></iframe>\n",
       "        "
      ],
      "text/plain": [
       "<IPython.lib.display.IFrame at 0x1470c5e0410>"
      ]
     },
     "metadata": {},
     "output_type": "display_data"
    }
   ],
   "source": [
    "# Render interactive graph inline\n",
    "# -----------------------------\n",
    "html_file = \"knowledge_graph.html\"\n",
    "with open(html_file, \"w\", encoding=\"utf-8\") as f:\n",
    "    f.write(net.generate_html())\n",
    "\n",
    "display(IFrame(html_file, width=900, height=600))"
   ]
  },
  {
   "cell_type": "code",
   "execution_count": 14,
   "id": "694a6437-ddcf-4e85-9e5e-7c15318b1bb6",
   "metadata": {},
   "outputs": [
    {
     "name": "stdout",
     "output_type": "stream",
     "text": [
      "Extracted triples:\n",
      "('who', 'develop', 'modern physics')\n",
      "('He', 'make', 'the photoelectric effect')\n",
      "('Einstein', 'affiliate', 'Princeton')\n",
      "('His work', 'shape', 'space')\n"
     ]
    }
   ],
   "source": [
    "# Print triples for reference\n",
    "# -----------------------------\n",
    "print(\"Extracted triples:\")\n",
    "for t in triples:\n",
    "    print(t)"
   ]
  },
  {
   "cell_type": "code",
   "execution_count": null,
   "id": "2356b121-b5c6-4fb8-b2e0-188ef63df8ec",
   "metadata": {},
   "outputs": [],
   "source": []
  }
 ],
 "metadata": {
  "kernelspec": {
   "display_name": "Python [conda env:base] *",
   "language": "python",
   "name": "conda-base-py"
  },
  "language_info": {
   "codemirror_mode": {
    "name": "ipython",
    "version": 3
   },
   "file_extension": ".py",
   "mimetype": "text/x-python",
   "name": "python",
   "nbconvert_exporter": "python",
   "pygments_lexer": "ipython3",
   "version": "3.13.5"
  }
 },
 "nbformat": 4,
 "nbformat_minor": 5
}
